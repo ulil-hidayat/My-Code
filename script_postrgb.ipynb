{
 "cells": [
  {
   "cell_type": "code",
   "execution_count": 1,
   "metadata": {},
   "outputs": [],
   "source": [
    "# import module \n",
    "from netCDF4 import Dataset\n",
    "import numpy as np\n",
    "import matplotlib.pyplot as plt\n",
    "import imageio\n",
    "import matplotlib.image as im\n",
    "from PIL import Image\n",
    "from mpl_toolkits.basemap import Basemap"
   ]
  },
  {
   "cell_type": "code",
   "execution_count": 2,
   "metadata": {},
   "outputs": [
    {
     "name": "stderr",
     "output_type": "stream",
     "text": [
      "/home/evan/miniconda3/lib/python3.10/site-packages/numpy/lib/function_base.py:4691: UserWarning: Warning: 'partition' will ignore the 'mask' of the MaskedArray.\n",
      "  arr.partition(\n"
     ]
    }
   ],
   "source": [
    "# Deteksi Sebaran Asap\n",
    "#RGB True Colour (band3, band2, band1)\n",
    "#turns out w/ this script, the result is same with the web bmkg asap\n",
    "\n",
    "def rgb1(data, PATH):\n",
    "    ds = Dataset(data,'r')\n",
    "\n",
    "    b1 = ds.variables['albedo_01'][:]\n",
    "    b2 = ds.variables['albedo_02'][:]\n",
    "    b3 = ds.variables['albedo_03'][:]\n",
    "    lons = ds.variables['longitude'][:]\n",
    "    lats = ds.variables['latitude'][:]\n",
    "\n",
    "    #RGB Composition\n",
    "    red = b3\n",
    "    green = b2\n",
    "    blue = b1\n",
    "\n",
    "    def norm(band):\n",
    "        band_min, band_max = np.nanpercentile(band,2), np.nanpercentile(band,98)\n",
    "        return ((band-band_min)/(band_max-band_min))\n",
    "\n",
    "    r = norm(red.astype(float))\n",
    "    g = norm(green.astype(float))\n",
    "    b = norm(blue.astype(float))\n",
    "\n",
    "    rgb = np.dstack((r,g,b))\n",
    "    extent = [80, 200, -60, 60]\n",
    "\n",
    "    below,above,left,right = -10, 10, 100, 130 #AOI\n",
    "    #below,above,left,right = -1, 4, 115, 120 #AOI\n",
    "    m = Basemap(projection='cyl',resolution='h',llcrnrlat=below,llcrnrlon=left,urcrnrlat=above,urcrnrlon=right)\n",
    "    m.drawcoastlines(color='white')\n",
    "    #m.drawparallels(np.arange(-90,90,3),labels=[1,0,0,1],dashes = [5,5], fontsize=8)\n",
    "    #m.drawmeridians(np.arange(-180,180,3),labels=[1,0,0,1],dashes = [5,5],fontsize=8)\n",
    "\n",
    "    plt.imshow(rgb, extent=extent)\n",
    "    plt.show()\n",
    "\n",
    "PATH = '/media/evan/A8242CC6242C9978/04092023/'\n",
    "data1 = PATH+'NC_H09_20230904_0000_R21_FLDK.02401_02401.nc'\n",
    "data2 = PATH+'NC_H09_20230904_0100_R21_FLDK.02401_02401.nc'\n",
    "data3 = PATH+'NC_H09_20230904_0200_R21_FLDK.02401_02401.nc'\n",
    "data4 = PATH+'NC_H09_20230904_0300_R21_FLDK.02401_02401.nc'\n",
    "data5 = PATH+'NC_H09_20230904_0400_R21_FLDK.02401_02401.nc'\n",
    "\n",
    "data6 = PATH+'NC_H08_20150825_0600_R21_FLDK.06001_06001.nc'\n",
    "\n",
    "#plot1 = rgb1(data1, PATH)\n",
    "#plot2 = rgb1(data2, PATH)\n",
    "#plot3 = rgb1(data3, PATH)\n",
    "#plot4 = rgb1(data4, PATH)\n",
    "#plot5 = rgb1(data5, PATH)\n",
    "plot6 = rgb1(data6, PATH)\n",
    "\n"
   ]
  },
  {
   "cell_type": "code",
   "execution_count": null,
   "metadata": {},
   "outputs": [],
   "source": []
  }
 ],
 "metadata": {
  "kernelspec": {
   "display_name": "base",
   "language": "python",
   "name": "python3"
  },
  "language_info": {
   "codemirror_mode": {
    "name": "ipython",
    "version": 3
   },
   "file_extension": ".py",
   "mimetype": "text/x-python",
   "name": "python",
   "nbconvert_exporter": "python",
   "pygments_lexer": "ipython3",
   "version": "3.10.8"
  },
  "orig_nbformat": 4
 },
 "nbformat": 4,
 "nbformat_minor": 2
}
